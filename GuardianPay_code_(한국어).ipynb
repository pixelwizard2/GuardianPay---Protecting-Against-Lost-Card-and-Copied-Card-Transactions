{
  "nbformat": 4,
  "nbformat_minor": 0,
  "metadata": {
    "colab": {
      "provenance": [],
      "authorship_tag": "ABX9TyPM1vVERS2y5DxNGTMI5Tc8",
      "include_colab_link": true
    },
    "kernelspec": {
      "name": "python3",
      "display_name": "Python 3"
    },
    "language_info": {
      "name": "python"
    }
  },
  "cells": [
    {
      "cell_type": "markdown",
      "metadata": {
        "id": "view-in-github",
        "colab_type": "text"
      },
      "source": [
        "<a href=\"https://colab.research.google.com/github/pixelwizard2/Project.NLP--GuardianPay---Protecting-Against-Lost-Card-and-Copied-Card-Transactions/blob/main/GuardianPay_code_(%ED%95%9C%EA%B5%AD%EC%96%B4).ipynb\" target=\"_parent\"><img src=\"https://colab.research.google.com/assets/colab-badge.svg\" alt=\"Open In Colab\"/></a>"
      ]
    },
    {
      "cell_type": "code",
      "execution_count": null,
      "metadata": {
        "id": "LP262TeBzIV2"
      },
      "outputs": [],
      "source": [
        "테스트"
      ]
    },
    {
      "cell_type": "code",
      "source": [
        "<img src=\"https://img.shields.io/badge/Instagram-FF00FF?style=flat-square&logo=Instagram&logoColor=white\"/>  <img src=\"https://img.shields.io/badge/pixelwizard@naver.com-FF4500?style=flat-square&logo=Gmail&logoColor=white\"/>\n",
        "- 👋 Hi, I’m @pixelwizard2\n",
        "- 👀 I’m AI Engineer\n",
        "- 🌱 I’m currently looking for IT(Application Development & AI Engineering) job in Korea, also all over the world!\n",
        "- 💞️ I’m looking to collaborate on Every countries :-)\n",
        "- 📫 How to reach me ...!!?\n",
        "\n",
        "\n",
        "Platforms\n",
        "\n",
        "<img src=\"https://img.shields.io/badge/Android-3DDC84?style=flat-square&logo=Android&logoColor=white\"/>\n",
        "\n",
        "\n",
        "Languages\n",
        "\n",
        "<img src=\"https://img.shields.io/badge/Kotlin-3399FF?style=flat-square&logo=Kotlin&logoColor=white\"/>  <img src=\"https://img.shields.io/badge/Python-FFFF00?style=flat-square&logo=Python&logoColor=black\"/>"
      ],
      "metadata": {
        "id": "jXt22tGF2h2N"
      },
      "execution_count": null,
      "outputs": []
    },
    {
      "cell_type": "code",
      "source": [
        "테스트"
      ],
      "metadata": {
        "id": "UqYHEk_LzgVE"
      },
      "execution_count": null,
      "outputs": []
    },
    {
      "cell_type": "code",
      "source": [
        "테스트"
      ],
      "metadata": {
        "id": "JEfJuSowzgYJ"
      },
      "execution_count": null,
      "outputs": []
    },
    {
      "cell_type": "code",
      "source": [
        "ㅌㅅㅌ"
      ],
      "metadata": {
        "id": "ofL1gXh20GVa"
      },
      "execution_count": null,
      "outputs": []
    },
    {
      "cell_type": "code",
      "source": [
        "ㅌㅅㅌㅌ"
      ],
      "metadata": {
        "id": "Pec5Jrwv0Gdf"
      },
      "execution_count": null,
      "outputs": []
    }
  ]
}