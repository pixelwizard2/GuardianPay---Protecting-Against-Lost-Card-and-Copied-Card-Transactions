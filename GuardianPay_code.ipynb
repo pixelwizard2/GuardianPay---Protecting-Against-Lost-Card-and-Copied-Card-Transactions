{
  "nbformat": 4,
  "nbformat_minor": 0,
  "metadata": {
    "colab": {
      "provenance": [],
      "authorship_tag": "ABX9TyOyJoyKi6aYV4ciaDFt9ASw",
      "include_colab_link": true
    },
    "kernelspec": {
      "name": "python3",
      "display_name": "Python 3"
    },
    "language_info": {
      "name": "python"
    }
  },
  "cells": [
    {
      "cell_type": "markdown",
      "metadata": {
        "id": "view-in-github",
        "colab_type": "text"
      },
      "source": [
        "<a href=\"https://colab.research.google.com/github/pixelwizard2/Project.NLP--GuardianPay---Protecting-Against-Lost-Card-and-Copied-Card-Transactions/blob/main/GuardianPay_code.ipynb\" target=\"_parent\"><img src=\"https://colab.research.google.com/assets/colab-badge.svg\" alt=\"Open In Colab\"/></a>"
      ]
    },
    {
      "cell_type": "code",
      "execution_count": null,
      "metadata": {
        "id": "LP262TeBzIV2"
      },
      "outputs": [],
      "source": [
        "테스트"
      ]
    },
    {
      "cell_type": "code",
      "source": [
        "테스트"
      ],
      "metadata": {
        "id": "UqYHEk_LzgVE"
      },
      "execution_count": null,
      "outputs": []
    },
    {
      "cell_type": "code",
      "source": [
        "테스트"
      ],
      "metadata": {
        "id": "JEfJuSowzgYJ"
      },
      "execution_count": null,
      "outputs": []
    }
  ]
}