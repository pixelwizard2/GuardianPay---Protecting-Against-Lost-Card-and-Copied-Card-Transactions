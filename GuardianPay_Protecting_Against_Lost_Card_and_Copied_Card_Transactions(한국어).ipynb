{
  "nbformat": 4,
  "nbformat_minor": 0,
  "metadata": {
    "colab": {
      "provenance": [],
      "authorship_tag": "ABX9TyOHE/2RJQHe09csFC5ARAYz",
      "include_colab_link": true
    },
    "kernelspec": {
      "name": "python3",
      "display_name": "Python 3"
    },
    "language_info": {
      "name": "python"
    }
  },
  "cells": [
    {
      "cell_type": "markdown",
      "metadata": {
        "id": "view-in-github",
        "colab_type": "text"
      },
      "source": [
        "<a href=\"https://colab.research.google.com/github/pixelwizard2/Project.NLP--GuardianPay---Protecting-Against-Lost-Card-and-Copied-Card-Transactions/blob/main/GuardianPay_Protecting_Against_Lost_Card_and_Copied_Card_Transactions(%ED%95%9C%EA%B5%AD%EC%96%B4).ipynb\" target=\"_parent\"><img src=\"https://colab.research.google.com/assets/colab-badge.svg\" alt=\"Open In Colab\"/></a>"
      ]
    },
    {
      "cell_type": "code",
      "execution_count": null,
      "metadata": {
        "id": "G6YVQalLVdOn"
      },
      "outputs": [],
      "source": [
        "테스트 11\n",
        "ㄴㄴㄴ"
      ]
    },
    {
      "cell_type": "code",
      "source": [
        "테스트2\n",
        "333"
      ],
      "metadata": {
        "id": "iGfNxkUAvj8u"
      },
      "execution_count": null,
      "outputs": []
    },
    {
      "cell_type": "code",
      "source": [
        "테스트5"
      ],
      "metadata": {
        "id": "SRw4KL_ivj-9"
      },
      "execution_count": null,
      "outputs": []
    },
    {
      "cell_type": "code",
      "source": [
        "테스트"
      ],
      "metadata": {
        "id": "O4VhOg-OvkBF"
      },
      "execution_count": null,
      "outputs": []
    },
    {
      "cell_type": "code",
      "source": [
        "테스트"
      ],
      "metadata": {
        "id": "4ezqQ4ULvkDY"
      },
      "execution_count": null,
      "outputs": []
    }
  ]
}